{
  "nbformat": 4,
  "nbformat_minor": 0,
  "metadata": {
    "colab": {
      "provenance": [],
      "authorship_tag": "ABX9TyNKD13LiunE1nuhgRCzs8Sl",
      "include_colab_link": true
    },
    "kernelspec": {
      "name": "python3",
      "display_name": "Python 3"
    },
    "language_info": {
      "name": "python"
    }
  },
  "cells": [
    {
      "cell_type": "markdown",
      "metadata": {
        "id": "view-in-github",
        "colab_type": "text"
      },
      "source": [
        "<a href=\"https://colab.research.google.com/github/HarshBarnwal2004/castle-swimmer-chatbot/blob/main/chatbot.ipynb\" target=\"_parent\"><img src=\"https://colab.research.google.com/assets/colab-badge.svg\" alt=\"Open In Colab\"/></a>"
      ]
    },
    {
      "cell_type": "code",
      "execution_count": 1,
      "metadata": {
        "id": "bmKEvRMF5T0N"
      },
      "outputs": [],
      "source": [
        "# Import necessary libraries\n",
        "import nltk\n",
        "from nltk.tokenize import word_tokenize"
      ]
    },
    {
      "cell_type": "code",
      "source": [
        "# Download necessary NLTK resources (only the first time)\n",
        "nltk.download('punkt')"
      ],
      "metadata": {
        "colab": {
          "base_uri": "https://localhost:8080/"
        },
        "id": "mNDDodLZ5XY5",
        "outputId": "6c62ab06-87a2-458f-966c-99f09f7d23c3"
      },
      "execution_count": 2,
      "outputs": [
        {
          "output_type": "stream",
          "name": "stderr",
          "text": [
            "[nltk_data] Downloading package punkt to /root/nltk_data...\n",
            "[nltk_data]   Unzipping tokenizers/punkt.zip.\n"
          ]
        },
        {
          "output_type": "execute_result",
          "data": {
            "text/plain": [
              "True"
            ]
          },
          "metadata": {},
          "execution_count": 2
        }
      ]
    },
    {
      "cell_type": "code",
      "source": [
        "# Define a set of keywords and corresponding responses\n",
        "responses = {\n",
        "    'what is castle swimmer about': \"Castle Swimmer is about Kappa, a boy who is the beacon of prophecies, and how he affects the lives of different underwater kingdoms. His arrival signals the fulfillment of various prophecies that determine the fates of others.\",\n",
        "    'who are the main characters': \"The main characters in Castle Swimmer are Kappa, the beacon who carries the fate of prophecies, and Siren, a prince who must decide between following a deadly prophecy or defying it to save Kappa.\",\n",
        "    'what is the new prophecy': \"In Chapters 83-89, a new prophecy is unveiled that challenges the characters' understanding of their fate, pushing them to confront difficult choices and their destinies. If you are keeping up with Wendy Lian Martin’s captivating webtoon, then you know that Castle Swimmer Season 2 has taken us deeper into mystery and intrigue. This gripping section delves into the fallout of the revelation in Chapter 82, where a conversation shows the depth of Siren’s curse and the apparent eternity tormenting him and his people. Castle Swimmer Chapter 83-89 raise the stakes, keeping secrets darker and more complex in character journeys than ever. Let’s get down to the exciting new chapters to experience them firsthand!\",\n",
        "    'what happens in chapter 83-89': \"Castle Swimmer Chapter 83-89 deals with Kappa and Siren's struggle. Kappa meets Queen Nee and Krilli, hinting new arc and possible prophecy.\",\n",
        "    'what happens in chapter 83': \"Castle Swimmer Chapter 83  begins with a shocking revelation. As prophesied, Siren was supposed to save his race by breaking curses, but it was discovered that he was cursed himself. The role of the savior, as foretold in the prophecy, became a fatal trap when it was revealed that fulfilling it another way would not bring redemption but doom for him. Thus, their conversation uncovers both being trapped in their predicament. The mysterious figure informs Siren that he can break free from his curse but still lose everyone. They will only have a chance to follow what has been stated.\",\n",
        "    'what happens in chapter 84': \"Chapter 84 begins with Siren hearing something informative and scary: a living mini-god must sustain a curse. Therefore, if the first mini-god who cursed them is no longer there, then its powers must have gone to another since they can share their powers. As he probes further into this matter, he discovers that another mini-god possesses power over the curse. The dialogue shifts to a sad note as the character, on the brink of transformation, imparts a grave warning: “Don’t trust prophecies. Don’t trust the words of gods. Don’t end up like we did.” \",\n",
        "    'what happens in chapter 85': \"Pim begins chapter 85 by profusely apologizing to Pagoon and Siren. She accepts her mistake of taking them all directly toward God’s Mouth instead of being more cautious, which could have killed all three of them. She is reassured by them, who tell her not to worry because they had been warned before leading her into danger.\",\n",
        "    'what happens in chapter 86': \"Castle Swimmer Chapter 86 begins with an astonished Pagoon, who has just learned of Siren’s past. He is deeply touched by his past involving the castle and the beacon and how he is determined to break the curse and free his people. Siren used this occasion to confess his humility and that his issues were nothing compared to Pim’s. \",\n",
        "    'what happens in chapter 87': \"Castle Swimmer Chapter 87 opens with Kappa waking up to a bad dream and discovering that Mono has been up all night. Mono’s and Kappa’s questions on what they would do after the Mini God is destroyed make it apparent that neither of them has a solid plan.Kappa’s answer reveals that he does not know what will happen after this adventure ends. His interaction with Mono further enhances his internal conflict. After this, Kappa starts getting pulled again. He realized that this connection was pointing toward another prophecy. This revelation adds an appealing twist to the storyline, insinuating that destiny might drive Kappa’s actions later.\",\n",
        "    'what happens in chapter 88': \"In Castle Swimmer Chapter 88, Queen Nethimir tells Kappa to return to the crab. He is unwillingly drawn towards the nearest prophecy, creating a central conflict in the chapter as his journey is not self-directed but driven by powers beyond him. Mucku asks if he can use his witch endurance to withstand this, but Kappa admits this is not an option, revealing his helplessness and sadness.\",\n",
        "    'what happens in chapter 89': \"Castle Swimmer Chapter 89 starts with Queen Nee’s happiness at seeing Kappa again. He has visibly impressed her with his maturity, and she hopes Krilli will feel the same way when she sees him again. He asks them why they are outside their usual Blue Hills domain, discussing their appearance today with Queen Nee and Krilli. An incident at Castle Colony triggered their departure recently. The absence of the beacon resulted in a destruction frenzy among them and the castles’ demolition.\",\n",
        "    'why Queen Krilli was surprised':\"Queen Krilli was surprised to learn that the people Kappa had met recently were “evil witches from the dark seas\",\n",
        "\n",
        "}"
      ],
      "metadata": {
        "id": "igzAJxiM5d8Y"
      },
      "execution_count": 6,
      "outputs": []
    },
    {
      "cell_type": "code",
      "source": [
        "def get_response(user_input):\n",
        "    # Tokenize and lowercase the input\n",
        "    user_input = user_input.lower()\n",
        "    tokens = word_tokenize(user_input)\n",
        "\n",
        "    # Check for keywords in the user's input\n",
        "    for question, answer in responses.items():\n",
        "        question_tokens = word_tokenize(question)\n",
        "\n",
        "        # Simple keyword matching\n",
        "        if all(word in tokens for word in question_tokens):\n",
        "            return answer\n",
        "\n",
        "    # Default response if no keywords match\n",
        "    return \"Sorry, I don't know the answer to that. Can you ask something else about Castle Swimmer?\""
      ],
      "metadata": {
        "id": "nF9W4doV5i4L"
      },
      "execution_count": 7,
      "outputs": []
    },
    {
      "cell_type": "code",
      "source": [
        "# Basic loop to simulate a conversation\n",
        "print(\"Welcome to the Castle Swimmer Chatbot! Ask me anything about Chapters 83-89.\")\n",
        "while True:\n",
        "    user_input = input(\"\\nYou: \")\n",
        "\n",
        "    # Exit condition\n",
        "    if user_input.lower() in ['exit', 'quit', 'bye']:\n",
        "        print(\"Chatbot: Goodbye!\")\n",
        "        break\n",
        "\n",
        "    # Get and print the response\n",
        "    response = get_response(user_input)\n",
        "    print(\"Chatbot:\", response)"
      ],
      "metadata": {
        "colab": {
          "base_uri": "https://localhost:8080/"
        },
        "id": "JaA1w9Mn5mZh",
        "outputId": "240a0471-0c0a-4042-d974-4cfc974b5169"
      },
      "execution_count": 9,
      "outputs": [
        {
          "output_type": "stream",
          "name": "stdout",
          "text": [
            "Welcome to the Castle Swimmer Chatbot! Ask me anything about Chapters 83-89.\n",
            "\n",
            "You: what is castle swimmer about\n",
            "Chatbot: Castle Swimmer is about Kappa, a boy who is the beacon of prophecies, and how he affects the lives of different underwater kingdoms. His arrival signals the fulfillment of various prophecies that determine the fates of others.\n",
            "\n",
            "You: who are the main characters\n",
            "Chatbot: The main characters in Castle Swimmer are Kappa, the beacon who carries the fate of prophecies, and Siren, a prince who must decide between following a deadly prophecy or defying it to save Kappa.\n",
            "\n",
            "You: what is the new prophecy\n",
            "Chatbot: In Chapters 83-89, a new prophecy is unveiled that challenges the characters' understanding of their fate, pushing them to confront difficult choices and their destinies. If you are keeping up with Wendy Lian Martin’s captivating webtoon, then you know that Castle Swimmer Season 2 has taken us deeper into mystery and intrigue. This gripping section delves into the fallout of the revelation in Chapter 82, where a conversation shows the depth of Siren’s curse and the apparent eternity tormenting him and his people. Castle Swimmer Chapter 83-89 raise the stakes, keeping secrets darker and more complex in character journeys than ever. Let’s get down to the exciting new chapters to experience them firsthand!\n",
            "\n",
            "You: what happens in chapter 84\n",
            "Chatbot: Chapter 84 begins with Siren hearing something informative and scary: a living mini-god must sustain a curse. Therefore, if the first mini-god who cursed them is no longer there, then its powers must have gone to another since they can share their powers. As he probes further into this matter, he discovers that another mini-god possesses power over the curse. The dialogue shifts to a sad note as the character, on the brink of transformation, imparts a grave warning: “Don’t trust prophecies. Don’t trust the words of gods. Don’t end up like we did.” \n",
            "\n",
            "You: bye\n",
            "Chatbot: Goodbye!\n"
          ]
        }
      ]
    },
    {
      "cell_type": "code",
      "source": [],
      "metadata": {
        "id": "ep7IM1Ap5pj8"
      },
      "execution_count": null,
      "outputs": []
    }
  ]
}